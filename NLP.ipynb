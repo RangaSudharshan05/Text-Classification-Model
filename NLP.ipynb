{
 "cells": [
  {
   "cell_type": "code",
   "execution_count": 1,
   "metadata": {},
   "outputs": [],
   "source": [
    "import os\n",
    "import nltk\n",
    "import pandas as pd\n",
    "import numpy as np\n",
    "from nltk.tokenize import word_tokenize\n",
    "from nltk.tokenize import sent_tokenize\n",
    "import seaborn as sns\n",
    "import matplotlib.pyplot as plt\n",
    "from sklearn.feature_extraction.text import TfidfVectorizer\n",
    "from sklearn.decomposition import PCA"
   ]
  },
  {
   "cell_type": "code",
   "execution_count": 2,
   "metadata": {},
   "outputs": [],
   "source": [
    "path= r'C:\\Users\\virar\\Downloads\\archive (3)'\n",
    "os.chdir(path)"
   ]
  },
  {
   "cell_type": "code",
   "execution_count": 3,
   "metadata": {},
   "outputs": [
    {
     "name": "stdout",
     "output_type": "stream",
     "text": [
      "   Unnamed: 0                                        description  \\\n",
      "0           0   A 23-year-old white female presents with comp...   \n",
      "1           1           Consult for laparoscopic gastric bypass.   \n",
      "2           2           Consult for laparoscopic gastric bypass.   \n",
      "3           3                             2-D M-Mode. Doppler.     \n",
      "4           4                                 2-D Echocardiogram   \n",
      "5           5   Morbid obesity.  Laparoscopic antecolic anteg...   \n",
      "6           6   Liposuction of the supraumbilical abdomen, re...   \n",
      "7           7                                 2-D Echocardiogram   \n",
      "8           8   Suction-assisted lipectomy - lipodystrophy of...   \n",
      "9           9                         Echocardiogram and Doppler   \n",
      "\n",
      "             medical_specialty                                sample_name  \\\n",
      "0         Allergy / Immunology                         Allergic Rhinitis    \n",
      "1                   Bariatrics   Laparoscopic Gastric Bypass Consult - 2    \n",
      "2                   Bariatrics   Laparoscopic Gastric Bypass Consult - 1    \n",
      "3   Cardiovascular / Pulmonary                    2-D Echocardiogram - 1    \n",
      "4   Cardiovascular / Pulmonary                    2-D Echocardiogram - 2    \n",
      "5                   Bariatrics               Laparoscopic Gastric Bypass    \n",
      "6                   Bariatrics                               Liposuction    \n",
      "7   Cardiovascular / Pulmonary                    2-D Echocardiogram - 3    \n",
      "8                   Bariatrics                Lipectomy - Abdomen/Thighs    \n",
      "9   Cardiovascular / Pulmonary                    2-D Echocardiogram - 4    \n",
      "\n",
      "                                       transcription  \\\n",
      "0  SUBJECTIVE:,  This 23-year-old white female pr...   \n",
      "1  PAST MEDICAL HISTORY:, He has difficulty climb...   \n",
      "2  HISTORY OF PRESENT ILLNESS: , I have seen ABC ...   \n",
      "3  2-D M-MODE: , ,1.  Left atrial enlargement wit...   \n",
      "4  1.  The left ventricular cavity size and wall ...   \n",
      "5  PREOPERATIVE DIAGNOSIS: , Morbid obesity.,POST...   \n",
      "6  PREOPERATIVE DIAGNOSES:,1.  Deformity, right b...   \n",
      "7  2-D ECHOCARDIOGRAM,Multiple views of the heart...   \n",
      "8  PREOPERATIVE DIAGNOSIS: , Lipodystrophy of the...   \n",
      "9  DESCRIPTION:,1.  Normal cardiac chambers size....   \n",
      "\n",
      "                                            keywords  \n",
      "0  allergy / immunology, allergic rhinitis, aller...  \n",
      "1  bariatrics, laparoscopic gastric bypass, weigh...  \n",
      "2  bariatrics, laparoscopic gastric bypass, heart...  \n",
      "3  cardiovascular / pulmonary, 2-d m-mode, dopple...  \n",
      "4  cardiovascular / pulmonary, 2-d, doppler, echo...  \n",
      "5  bariatrics, gastric bypass, eea anastomosis, r...  \n",
      "6  bariatrics, breast reconstruction, excess, lma...  \n",
      "7  cardiovascular / pulmonary, 2-d echocardiogram...  \n",
      "8  bariatrics, lipodystrophy, abd pads, suction-a...  \n",
      "9  cardiovascular / pulmonary, ejection fraction,...  \n",
      "Unnamed: 0              0\n",
      "description             0\n",
      "medical_specialty       0\n",
      "sample_name             0\n",
      "transcription          33\n",
      "keywords             1068\n",
      "dtype: int64\n"
     ]
    },
    {
     "data": {
      "text/plain": [
       "Index(['Unnamed: 0', 'description', 'medical_specialty', 'sample_name',\n",
       "       'transcription', 'keywords'],\n",
       "      dtype='object')"
      ]
     },
     "execution_count": 3,
     "metadata": {},
     "output_type": "execute_result"
    }
   ],
   "source": [
    "data_df=pd.read_csv('mtsamples.csv')\n",
    "print(data_df.head(10))\n",
    "print(data_df.isnull().sum())\n",
    "data_df.columns"
   ]
  },
  {
   "cell_type": "code",
   "execution_count": 4,
   "metadata": {},
   "outputs": [
    {
     "data": {
      "text/plain": [
       "<AxesSubplot:>"
      ]
     },
     "execution_count": 4,
     "metadata": {},
     "output_type": "execute_result"
    },
    {
     "data": {
      "image/png": "[encoded data removed]",
      "text/plain": [
       "<Figure size 432x288 with 2 Axes>"
      ]
     },
     "metadata": {
      "needs_background": "light"
     },
     "output_type": "display_data"
    }
   ],
   "source": [
    "sns.heatmap(data=data_df.isnull(),yticklabels=False,cbar=True,cmap='Blues')"
   ]
  },
  {
   "cell_type": "code",
   "execution_count": 5,
   "metadata": {},
   "outputs": [
    {
     "name": "stdout",
     "output_type": "stream",
     "text": [
      "147007 41910\n"
     ]
    }
   ],
   "source": [
    "def sent_and_word_count(data):\n",
    "    w_c=0\n",
    "    s_c=0\n",
    "    count={}\n",
    "    for i in data:\n",
    "        sentences= sent_tokenize(i)\n",
    "        s_c=s_c+len(sentences)\n",
    "        for sent in sentences:\n",
    "            word_list=word_tokenize(sent)\n",
    "            for word in word_list:\n",
    "                if word in count.keys():\n",
    "                    count[word]+=1\n",
    "                else:\n",
    "                    count[word]=1\n",
    "    w_c=len(count.keys())\n",
    "    return s_c,w_c\n",
    "data_df=data_df[data_df['transcription'].notna()]\n",
    "s_c,w_c=sent_and_word_count(data_df['transcription'].tolist())\n",
    "print(s_c,w_c)"
   ]
  },
  {
   "cell_type": "code",
   "execution_count": 6,
   "metadata": {},
   "outputs": [
    {
     "data": {
      "text/plain": [
       "array([' Allergy / Immunology', ' Bariatrics',\n",
       "       ' Cardiovascular / Pulmonary', ' Neurology', ' Dentistry',\n",
       "       ' Urology', ' General Medicine', ' Surgery', ' Speech - Language',\n",
       "       ' SOAP / Chart / Progress Notes', ' Sleep Medicine',\n",
       "       ' Rheumatology', ' Radiology', ' Psychiatry / Psychology',\n",
       "       ' Podiatry', ' Physical Medicine - Rehab',\n",
       "       ' Pediatrics - Neonatal', ' Pain Management', ' Orthopedic',\n",
       "       ' Ophthalmology', ' Office Notes', ' Obstetrics / Gynecology',\n",
       "       ' Neurosurgery', ' Nephrology', ' Letters',\n",
       "       ' Lab Medicine - Pathology', ' IME-QME-Work Comp etc.',\n",
       "       ' Hospice - Palliative Care', ' Hematology - Oncology',\n",
       "       ' Gastroenterology', ' ENT - Otolaryngology', ' Endocrinology',\n",
       "       ' Emergency Room Reports', ' Discharge Summary',\n",
       "       ' Diets and Nutritions', ' Dermatology',\n",
       "       ' Cosmetic / Plastic Surgery', ' Consult - History and Phy.',\n",
       "       ' Chiropractic', ' Autopsy'], dtype=object)"
      ]
     },
     "execution_count": 6,
     "metadata": {},
     "output_type": "execute_result"
    }
   ],
   "source": [
    "data_df['medical_specialty'].unique()"
   ]
  },
  {
   "cell_type": "code",
   "execution_count": 7,
   "metadata": {},
   "outputs": [
    {
     "name": "stdout",
     "output_type": "stream",
     "text": [
      " Cardiovascular / Pulmonary: 371\n",
      "3    2-D M-MODE: , ,1.  Left atrial enlargement wit...\n",
      "Name: transcription, dtype: object\n",
      " Consult - History and Phy.: 516\n",
      "4081    SUBJECTIVE:,  The patient presents with Mom fo...\n",
      "Name: transcription, dtype: object\n",
      " Discharge Summary: 108\n",
      "3877    The patient made some progress during therapy....\n",
      "Name: transcription, dtype: object\n",
      " ENT - Otolaryngology: 96\n",
      "3687    Patient had a normal MRI and normal neurologic...\n",
      "Name: transcription, dtype: object\n",
      " Emergency Room Reports: 75\n",
      "3802    PROCEDURE: , Urgent cardiac catheterization wi...\n",
      "Name: transcription, dtype: object\n",
      " Gastroenterology: 224\n",
      "3455    HISTORY OF PRESENT ILLNESS:,  Ms. Connor is a ...\n",
      "Name: transcription, dtype: object\n",
      " General Medicine: 259\n",
      "19    HISTORY OF PRESENT ILLNESS:,  The patient is a...\n",
      "Name: transcription, dtype: object\n",
      " Hematology - Oncology: 90\n",
      "3110    REASON FOR CONSULTATION: , Thyroid mass diagno...\n",
      "Name: transcription, dtype: object\n",
      " Nephrology: 81\n",
      "2974    EXAM: , Bilateral renal ultrasound.,CLINICAL I...\n",
      "Name: transcription, dtype: object\n",
      " Neurology: 223\n",
      "12    CC:, Confusion and slurred speech.,HX , (prima...\n",
      "Name: transcription, dtype: object\n",
      " Neurosurgery: 94\n",
      "2656    TITLE OF OPERATION:,  A complex closure and de...\n",
      "Name: transcription, dtype: object\n",
      " Obstetrics / Gynecology: 155\n",
      "2500    PREOPERATIVE DIAGNOSES,1.  A 40 weeks 6 days i...\n",
      "Name: transcription, dtype: object\n",
      " Office Notes: 50\n",
      "2450    DIAGNOSES PROBLEMS:,1.  Orthostatic hypotensio...\n",
      "Name: transcription, dtype: object\n",
      " Ophthalmology: 83\n",
      "2366    PREOPERATIVE DIAGNOSIS: , Secondary capsular m...\n",
      "Name: transcription, dtype: object\n",
      " Orthopedic: 355\n",
      "2008    TITLE OF OPERATION: , Youngswick osteotomy wit...\n",
      "Name: transcription, dtype: object\n",
      " Pain Management: 61\n",
      "1947    PREOPERATIVE DIAGNOSIS:,  Low Back Syndrome - ...\n",
      "Name: transcription, dtype: object\n",
      " Pediatrics - Neonatal: 70\n",
      "1877    SUBJECTIVE:,  This is a 1-month-old who comes ...\n",
      "Name: transcription, dtype: object\n",
      " Psychiatry / Psychology: 53\n",
      "1757    SUBJECTIVE:,  This is a 6-year-old male who co...\n",
      "Name: transcription, dtype: object\n",
      " Radiology: 273\n",
      "1485    EXAM: , Ultrasound examination of the scrotum....\n",
      "Name: transcription, dtype: object\n",
      " SOAP / Chart / Progress Notes: 166\n",
      "1287    HISTORY OF PRESENT ILLNESS:,  The patient is a...\n",
      "Name: transcription, dtype: object\n",
      " Surgery: 1088\n",
      "174    PREOPERATIVE DIAGNOSES:,1.  Hallux rigidus, le...\n",
      "Name: transcription, dtype: object\n",
      " Urology: 156\n",
      "18    PROCEDURE: , Elective male sterilization via b...\n",
      "Name: transcription, dtype: object\n"
     ]
    }
   ],
   "source": [
    "#filtering the data that has more than 50 values\n",
    "data_df=data_df.groupby(data_df['medical_specialty']).filter(lambda x:x.shape[0]>=50) \n",
    "for name,value in data_df.groupby(data_df['medical_specialty']):\n",
    "    print(name+': '+str(len(value)))\n",
    "    print(value['transcription'].head(1))"
   ]
  },
  {
   "cell_type": "code",
   "execution_count": 8,
   "metadata": {},
   "outputs": [
    {
     "name": "stdout",
     "output_type": "stream",
     "text": [
      "Unnamed: 0           4647\n",
      "description          2304\n",
      "medical_specialty      22\n",
      "sample_name          2328\n",
      "transcription        2325\n",
      "keywords             3570\n",
      "dtype: int64\n"
     ]
    },
    {
     "data": {
      "image/png": "[encoded data removed]",
      "text/plain": [
       "<Figure size 432x288 with 1 Axes>"
      ]
     },
     "metadata": {
      "needs_background": "light"
     },
     "output_type": "display_data"
    }
   ],
   "source": [
    "print(data_df.nunique())\n",
    "sns.countplot(y='medical_specialty',data=data_df)\n",
    "plt.show()"
   ]
  },
  {
   "cell_type": "code",
   "execution_count": 9,
   "metadata": {},
   "outputs": [
    {
     "data": {
      "text/plain": [
       "'1.  The left ventricular cavity size and wall thickness appear normal.  The wall motion and left ventricular systolic function appears hyperdynamic with estimated ejection fraction of 70% to 75%.  There is near-cavity obliteration seen.  There also appears to be increased left ventricular outflow tract gradient at the mid cavity level consistent with hyperdynamic left ventricular systolic function.  There is abnormal left ventricular relaxation pattern seen as well as elevated left atrial pressures seen by Doppler examination.,2.  The left atrium appears mildly dilated.,3.  The right atrium and right ventricle appear normal.,4.  The aortic root appears normal.,5.  The aortic valve appears calcified with mild aortic valve stenosis, calculated aortic valve area is 1.3 cm square with a maximum instantaneous gradient of 34 and a mean gradient of 19 mm.,6.  There is mitral annular calcification extending to leaflets and supportive structures with thickening of mitral valve leaflets with mild mitral regurgitation.,7.  The tricuspid valve appears normal with trace tricuspid regurgitation with moderate pulmonary artery hypertension.  Estimated pulmonary artery systolic pressure is 49 mmHg.  Estimated right atrial pressure of 10 mmHg.,8.  The pulmonary valve appears normal with trace pulmonary insufficiency.,9.  There is no pericardial effusion or intracardiac mass seen.,10.  There is a color Doppler suggestive of a patent foramen ovale with lipomatous hypertrophy of the interatrial septum.,11.  The study was somewhat technically limited and hence subtle abnormalities could be missed from the study.,'"
      ]
     },
     "execution_count": 9,
     "metadata": {},
     "output_type": "execute_result"
    }
   ],
   "source": [
    "data=data_df[['transcription', 'medical_specialty']]\n",
    "data=data[data['transcription'].notnull()]\n",
    "data['transcription'].tolist()[1]"
   ]
  },
  {
   "cell_type": "code",
   "execution_count": 10,
   "metadata": {},
   "outputs": [],
   "source": [
    "import string\n",
    "import regex as re\n",
    "from nltk.stem import WordNetLemmatizer\n",
    "def text_clean(text):\n",
    "    text=text.translate(str.maketrans('','',string.punctuation)) #removing punctuation\n",
    "    text=''.join([i for i in text if not i.isdigit()]) #removing digits\n",
    "    a=re.compile('[/(){}\\[\\]\\|@,;]')\n",
    "    final_text=text.lower()\n",
    "    final_text=a.sub('',final_text)   #removing every special characters\n",
    "    return final_text\n",
    "def lemmatize(text):\n",
    "    list_words=[]    #lemmatizing every sentence in the text\n",
    "    lemmatizer = WordNetLemmatizer() \n",
    "    sentences=sent_tokenize(text)\n",
    "    for i in range(len(sentences)):\n",
    "        words=word_tokenize(sentences[i])\n",
    "        for word in words:\n",
    "            list_words.append(lemmatizer.lemmatize(word))\n",
    "    return ' '.join(list_words)\n",
    "data['transcription']=data['transcription'].apply(lemmatize)\n",
    "data['transcription']=data['transcription'].apply(text_clean)\n"
   ]
  },
  {
   "cell_type": "code",
   "execution_count": 18,
   "metadata": {},
   "outputs": [
    {
     "data": {
      "text/plain": [
       "(4647, 2)"
      ]
     },
     "execution_count": 18,
     "metadata": {},
     "output_type": "execute_result"
    }
   ],
   "source": [
    "data2=data.loc[1:2000,['transcription','medical_specialty']]\n",
    "data.shape"
   ]
  },
  {
   "cell_type": "code",
   "execution_count": 12,
   "metadata": {},
   "outputs": [
    {
     "data": {
      "text/plain": [
       "539024"
      ]
     },
     "execution_count": 12,
     "metadata": {},
     "output_type": "execute_result"
    }
   ],
   "source": [
    "vectorizer= TfidfVectorizer(stop_words='english',ngram_range=(1,3),max_df=0.85,analyzer='word')\n",
    "id_matrix=vectorizer.fit_transform(data2['transcription'].tolist())\n",
    "len(vectorizer.get_feature_names())"
   ]
  },
  {
   "cell_type": "code",
   "execution_count": 20,
   "metadata": {},
   "outputs": [
    {
     "data": {
      "text/plain": [
       "['aa periodic moment', 'aa present', 'aa present going']"
      ]
     },
     "execution_count": 20,
     "metadata": {},
     "output_type": "execute_result"
    }
   ],
   "source": [
    "vectorizer.get_feature_names()[10:13]"
   ]
  },
  {
   "cell_type": "code",
   "execution_count": 14,
   "metadata": {},
   "outputs": [],
   "source": [
    "#pd.DataFrame(id_matrix.toarray()).astype('float16').info(memory_usage='deep')"
   ]
  },
  {
   "cell_type": "code",
   "execution_count": 15,
   "metadata": {},
   "outputs": [
    {
     "data": {
      "text/plain": [
       "(539024, 1)"
      ]
     },
     "execution_count": 15,
     "metadata": {},
     "output_type": "execute_result"
    }
   ],
   "source": [
    "import gc\n",
    "gc.collect()\n",
    "a=id_matrix[0]\n",
    "a=pd.DataFrame(a.T.todense(),index=vectorizer.get_feature_names(),columns=['value'])\n",
    "a.shape"
   ]
  },
  {
   "cell_type": "code",
   "execution_count": 22,
   "metadata": {},
   "outputs": [
    {
     "data": {
      "text/plain": [
       "<1865x539024 sparse matrix of type '<class 'numpy.float16'>'\n",
       "\twith 1142429 stored elements in Compressed Sparse Row format>"
      ]
     },
     "execution_count": 22,
     "metadata": {},
     "output_type": "execute_result"
    }
   ],
   "source": [
    "id_matrix.astype('float16')"
   ]
  },
  {
   "cell_type": "code",
   "execution_count": 24,
   "metadata": {},
   "outputs": [],
   "source": [
    "new_id_matrix=pd.DataFrame(id_matrix.toarray())"
   ]
  },
  {
   "cell_type": "code",
   "execution_count": null,
   "metadata": {},
   "outputs": [],
   "source": [
    "new_id_matrix=new_id_matrix.astype('float16')"
   ]
  },
  {
   "cell_type": "code",
   "execution_count": null,
   "metadata": {},
   "outputs": [],
   "source": []
  }
 ],
 "metadata": {
  "kernelspec": {
   "display_name": "Python 3",
   "language": "python",
   "name": "python3"
  },
  "language_info": {
   "codemirror_mode": {
    "name": "ipython",
    "version": 3
   },
   "file_extension": ".py",
   "mimetype": "text/x-python",
   "name": "python",
   "nbconvert_exporter": "python",
   "pygments_lexer": "ipython3",
   "version": "3.8.2"
  }
 },
 "nbformat": 4,
 "nbformat_minor": 4
}
